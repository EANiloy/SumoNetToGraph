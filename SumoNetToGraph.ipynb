{
 "cells": [
  {
   "cell_type": "code",
   "execution_count": null,
   "id": "7fc43d01-fec1-454e-9c20-b250497781db",
   "metadata": {
    "tags": []
   },
   "outputs": [],
   "source": [
    "import xml.etree.ElementTree as ET\n",
    "import networkx as nx\n",
    "import matplotlib.pyplot as plt\n",
    "\n",
    "def parse_net_xml(filename):\n",
    "    \"\"\"\n",
    "    Parses a SUMO .net.xml file and extracts nodes and links with lengths.\n",
    "  Args:\n",
    "      filename: Path to the .net.xml file.\n",
    "\n",
    "  Returns:\n",
    "      A dictionary representing nodes and links with lengths.\n",
    "    \"\"\"\n",
    "    nodes={}\n",
    "    links = []\n",
    "    tree = ET.parse(filename)\n",
    "    root = tree.getroot()\n",
    "    # Extract nodes\n",
    "    G = nx.DiGraph()\n",
    "    for node in root.findall('junction'):\n",
    "        if(\"_\" in node.attrib['id']):\n",
    "            continue\n",
    "        node_id = node.attrib['id']\n",
    "        node_x = float(node.attrib['x'])\n",
    "        node_y = float(node.attrib['y'])\n",
    "        node_pos = (node_x,node_y)\n",
    "        G.add_node(node_id,pos=node_pos)\n",
    "    \n",
    "    # Extract edges (links) with lengths skipping all the internal lanes\n",
    "    for edge in root.findall('edge'):\n",
    "        if('internal' in str(edge.attrib)):\n",
    "            continue\n",
    "        edge_id = edge.attrib['id']\n",
    "        from_node = edge.attrib['from']\n",
    "        to_node = edge.attrib['to']\n",
    "        length = float(edge[0].attrib['length'])\n",
    "        nx.add_path(G,[from_node,to_node],weight=length)\n",
    "    return G"
   ]
  },
  {
   "cell_type": "code",
   "execution_count": null,
   "id": "eda03225-af2b-4f6c-a197-ad76f3b493fc",
   "metadata": {
    "tags": []
   },
   "outputs": [],
   "source": [
    "def visualize_graph(graph):\n",
    "    pos = nx.get_node_attributes(graph,'pos')\n",
    "    edge_labels = nx.get_edge_attributes(graph,'weight')\n",
    "    plt.figure(1, figsize=(10, 10), dpi=300)\n",
    "    nx.draw_networkx_nodes(graph,pos,node_size=100,alpha=0.8)\n",
    "    nx.draw_networkx_edges(graph,pos,width=1,alpha=0.8,edge_color=\"black\")\n",
    "    nx.draw_networkx_edge_labels(graph,pos=pos,edge_labels=edge_labels)\n",
    "    plt.savefig(\"plot.png\", dpi=150, bbox_inches=\"tight\")\n",
    "    plt.show()"
   ]
  },
  {
   "cell_type": "code",
   "execution_count": null,
   "id": "0df1287c-46a8-4e5d-a38c-70065e15ede0",
   "metadata": {
    "tags": []
   },
   "outputs": [],
   "source": [
    "graph = parse_net_xml(\"osm.net.xml\")\n",
    "visualize_graph(graph)"
   ]
  }
 ],
 "metadata": {
  "kernelspec": {
   "display_name": "Python 3 (ipykernel)",
   "language": "python",
   "name": "python3"
  },
  "language_info": {
   "codemirror_mode": {
    "name": "ipython",
    "version": 3
   },
   "file_extension": ".py",
   "mimetype": "text/x-python",
   "name": "python",
   "nbconvert_exporter": "python",
   "pygments_lexer": "ipython3",
   "version": "3.8.18"
  }
 },
 "nbformat": 4,
 "nbformat_minor": 5
}
